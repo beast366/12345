{
  "nbformat": 4,
  "nbformat_minor": 0,
  "metadata": {
    "colab": {
      "provenance": []
    },
    "kernelspec": {
      "name": "python3",
      "display_name": "Python 3"
    },
    "language_info": {
      "name": "python"
    }
  },
  "cells": [
    {
      "cell_type": "markdown",
      "source": [
        "write a python program to test a given number is prime or not"
      ],
      "metadata": {
        "id": "FKBXeDqVVxS8"
      }
    },
    {
      "cell_type": "code",
      "execution_count": 4,
      "metadata": {
        "colab": {
          "base_uri": "https://localhost:8080/"
        },
        "id": "fl7JbVBKVE2v",
        "outputId": "cad1ed88-ae70-4d13-f412-c5c419082d9e"
      },
      "outputs": [
        {
          "output_type": "stream",
          "name": "stdout",
          "text": [
            "Enter The Number : 13\n",
            "13 is a prime number\n"
          ]
        }
      ],
      "source": [
        "num = int(input(\"Enter The Number : \"))\n",
        "if num > 1:\n",
        "   for i in range(2,num):\n",
        "       if (num % i) == 0:\n",
        "           print(num,\"is not a prime number\")\n",
        "           print(i,\"times\",num//i,\"is\",num)\n",
        "           break\n",
        "       else:\n",
        "           print(num,\"is a prime number\")\n",
        "           break\n",
        "else:\n",
        "   print(num,\"is not a prime number\")"
      ]
    },
    {
      "cell_type": "markdown",
      "source": [
        "write a python program to generate odd numbers from m to n using while loop"
      ],
      "metadata": {
        "id": "Hjq92t4mVspx"
      }
    },
    {
      "cell_type": "code",
      "source": [
        "m = int(input(\"Enter the starting number : \"))\n",
        "n = int(input(\"Enter the Maximum Value : \"))\n",
        "while m <= n:\n",
        "    if(m % 2 != 0):\n",
        "        print(\"{0}\".format(m))\n",
        "    m = m + 1"
      ],
      "metadata": {
        "colab": {
          "base_uri": "https://localhost:8080/"
        },
        "id": "-mDykKFsWqZL",
        "outputId": "3174c812-104b-4c6a-f19c-6c2f68034ed9"
      },
      "execution_count": 1,
      "outputs": [
        {
          "output_type": "stream",
          "name": "stdout",
          "text": [
            "Enter the starting number : 3\n",
            "Enter the Maximum Value : 15\n",
            "3\n",
            "5\n",
            "7\n",
            "9\n",
            "11\n",
            "13\n",
            "15\n"
          ]
        }
      ]
    },
    {
      "cell_type": "markdown",
      "source": [
        "write a python program to display prime number series upto given number"
      ],
      "metadata": {
        "id": "pCSOCid4YC30"
      }
    },
    {
      "cell_type": "code",
      "source": [
        "m = int(input(\"Enter the starting number : \"))\n",
        "n = int(input(\"Enter the maximum value : \"))\n",
        "for i in range(m,n + 1):\n",
        "   if i > 1:\n",
        "       for j in range(2,i):\n",
        "           if (i % j) == 0:\n",
        "               break\n",
        "       else:\n",
        "           print(i)"
      ],
      "metadata": {
        "colab": {
          "base_uri": "https://localhost:8080/"
        },
        "id": "xin9rz7oYWxs",
        "outputId": "6ddc69d4-5f1e-475e-d3b8-fe19ae5b896d"
      },
      "execution_count": 12,
      "outputs": [
        {
          "output_type": "stream",
          "name": "stdout",
          "text": [
            "Enter the starting number : 2\n",
            "Enter the maximum value : 20\n",
            "2\n",
            "3\n",
            "5\n",
            "7\n",
            "11\n",
            "13\n",
            "17\n",
            "19\n"
          ]
        }
      ]
    },
    {
      "cell_type": "markdown",
      "source": [
        "write a python program to generate  a fibonacci series"
      ],
      "metadata": {
        "id": "uKU5Z9sdaMqj"
      }
    },
    {
      "cell_type": "code",
      "source": [
        "no_of_terms = int(input (\"How many terms the user wants to print? \"))  \n",
        "first_no = int(input(\"enter the first number : \")) \n",
        "second_no = int(input(\"enter the second number : \"))  \n",
        "count = 0   \n",
        "if no_of_terms <= 0:  \n",
        "    print (\"Please enter a positive integer, the given number is not valid\")  \n",
        "elif no_of_terms == 1:  \n",
        "    print (\"The Fibonacci sequence of the numbers up to\", no_of_terms, \": \")  \n",
        "    print(first_no)  \n",
        "else:  \n",
        "    print (\"The fibonacci sequence of the numbers is:\")  \n",
        "    while count < no_of_terms:  \n",
        "        print(first_no)  \n",
        "        nth = first_no + second_no \n",
        "        first_no = second_no  \n",
        "        second_no = nth  \n",
        "        count += 1  "
      ],
      "metadata": {
        "colab": {
          "base_uri": "https://localhost:8080/"
        },
        "id": "FKuXI-WWaaX-",
        "outputId": "77374220-9ccc-4aee-cb6f-b08cb66baa78"
      },
      "execution_count": 17,
      "outputs": [
        {
          "output_type": "stream",
          "name": "stdout",
          "text": [
            "How many terms the user wants to print? 10\n",
            "enter the first number : 2\n",
            "enter the second number : 1\n",
            "The fibonacci sequence of the numbers is:\n",
            "2\n",
            "1\n",
            "3\n",
            "4\n",
            "7\n",
            "11\n",
            "18\n",
            "29\n",
            "47\n",
            "76\n"
          ]
        }
      ]
    }
  ]
}